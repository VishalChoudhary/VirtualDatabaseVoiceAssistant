{
 "cells": [
  {
   "cell_type": "code",
   "execution_count": 4,
   "id": "54ba225b",
   "metadata": {},
   "outputs": [],
   "source": [
    "import pyttsx3\n",
    "import speech_recognition as sr\n",
    "#import pyaudio"
   ]
  },
  {
   "cell_type": "code",
   "execution_count": 5,
   "id": "ce5fdb1b",
   "metadata": {},
   "outputs": [
    {
     "name": "stdout",
     "output_type": "stream",
     "text": [
      "[<pyttsx3.voice.Voice object at 0x0000025064808E20>, <pyttsx3.voice.Voice object at 0x0000025065E0D190>]\n"
     ]
    }
   ],
   "source": [
    "Assistant=pyttsx3.init('sapi5')\n",
    "voices=Assistant.getProperty('voices')\n",
    "print(voices)\n",
    "Assistant.setProperty('voices',voices[0].id)"
   ]
  },
  {
   "cell_type": "code",
   "execution_count": 6,
   "id": "fcc45fd7",
   "metadata": {},
   "outputs": [],
   "source": [
    "def Speak(audio):\n",
    "    print(\"   \")\n",
    "    Assistant.say(audio)\n",
    "    print(\"   \")\n",
    "    Assistant.runAndWait()"
   ]
  },
  {
   "cell_type": "code",
   "execution_count": 16,
   "id": "e248e513",
   "metadata": {},
   "outputs": [],
   "source": [
    "def takecommand():\n",
    "    command = sr.Recognizer()\n",
    "    with sr.Microphone() as source:\n",
    "        print(\"Listenning.....\")\n",
    "        command.pause_threshold=1\n",
    "        audio = command.listen(source)\n",
    "        \n",
    "        try:\n",
    "            print(\"Recognizing.....\")\n",
    "            query=command.recognize_google(audio,language='en-in')\n",
    "            print(f\"You-said:   {query}\")\n",
    "    \n",
    "        except Exception as Error:\n",
    "            return \"None\"\n",
    "        \n",
    "        return query.lower()"
   ]
  },
  {
   "cell_type": "code",
   "execution_count": null,
   "id": "b77b8ebb",
   "metadata": {},
   "outputs": [
    {
     "name": "stdout",
     "output_type": "stream",
     "text": [
      "Listenning.....\n",
      "Recognizing.....\n",
      "You-said:   hello\n",
      "   \n",
      "   \n"
     ]
    }
   ],
   "source": [
    "query=takecommand()\n",
    "if 'hello' in query:\n",
    "    Speak(\"hello sir\")\n",
    "    \n",
    "else:\n",
    "    Speak(\"no command found\")"
   ]
  }
 ],
 "metadata": {
  "kernelspec": {
   "display_name": "Python 3 (ipykernel)",
   "language": "python",
   "name": "python3"
  },
  "language_info": {
   "codemirror_mode": {
    "name": "ipython",
    "version": 3
   },
   "file_extension": ".py",
   "mimetype": "text/x-python",
   "name": "python",
   "nbconvert_exporter": "python",
   "pygments_lexer": "ipython3",
   "version": "3.9.7"
  }
 },
 "nbformat": 4,
 "nbformat_minor": 5
}
